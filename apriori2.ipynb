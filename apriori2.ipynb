{
  "nbformat": 4,
  "nbformat_minor": 0,
  "metadata": {
    "colab": {
      "name": "apriori2.ipynb",
      "provenance": []
    },
    "kernelspec": {
      "name": "python3",
      "display_name": "Python 3"
    },
    "language_info": {
      "name": "python"
    }
  },
  "cells": [
    {
      "cell_type": "code",
      "metadata": {
        "colab": {
          "base_uri": "https://localhost:8080/"
        },
        "id": "eDNkUPDEhco-",
        "outputId": "7095b4c4-a4fc-48ba-a1ae-6ee5fd1cb9f5"
      },
      "source": [
        "!pip install mlxtend"
      ],
      "execution_count": 7,
      "outputs": [
        {
          "output_type": "stream",
          "name": "stdout",
          "text": [
            "Requirement already satisfied: mlxtend in /usr/local/lib/python3.7/dist-packages (0.14.0)\n",
            "Requirement already satisfied: setuptools in /usr/local/lib/python3.7/dist-packages (from mlxtend) (57.4.0)\n",
            "Requirement already satisfied: matplotlib>=1.5.1 in /usr/local/lib/python3.7/dist-packages (from mlxtend) (3.2.2)\n",
            "Requirement already satisfied: scikit-learn>=0.18 in /usr/local/lib/python3.7/dist-packages (from mlxtend) (0.22.2.post1)\n",
            "Requirement already satisfied: pandas>=0.17.1 in /usr/local/lib/python3.7/dist-packages (from mlxtend) (1.1.5)\n",
            "Requirement already satisfied: numpy>=1.10.4 in /usr/local/lib/python3.7/dist-packages (from mlxtend) (1.19.5)\n",
            "Requirement already satisfied: scipy>=0.17 in /usr/local/lib/python3.7/dist-packages (from mlxtend) (1.4.1)\n",
            "Requirement already satisfied: pyparsing!=2.0.4,!=2.1.2,!=2.1.6,>=2.0.1 in /usr/local/lib/python3.7/dist-packages (from matplotlib>=1.5.1->mlxtend) (2.4.7)\n",
            "Requirement already satisfied: kiwisolver>=1.0.1 in /usr/local/lib/python3.7/dist-packages (from matplotlib>=1.5.1->mlxtend) (1.3.1)\n",
            "Requirement already satisfied: cycler>=0.10 in /usr/local/lib/python3.7/dist-packages (from matplotlib>=1.5.1->mlxtend) (0.10.0)\n",
            "Requirement already satisfied: python-dateutil>=2.1 in /usr/local/lib/python3.7/dist-packages (from matplotlib>=1.5.1->mlxtend) (2.8.2)\n",
            "Requirement already satisfied: six in /usr/local/lib/python3.7/dist-packages (from cycler>=0.10->matplotlib>=1.5.1->mlxtend) (1.15.0)\n",
            "Requirement already satisfied: pytz>=2017.2 in /usr/local/lib/python3.7/dist-packages (from pandas>=0.17.1->mlxtend) (2018.9)\n",
            "Requirement already satisfied: joblib>=0.11 in /usr/local/lib/python3.7/dist-packages (from scikit-learn>=0.18->mlxtend) (1.0.1)\n"
          ]
        }
      ]
    },
    {
      "cell_type": "code",
      "metadata": {
        "id": "GQq6bgJTeYtJ"
      },
      "source": [
        "# importar librerias\n",
        "import pandas as pd\n",
        "import numpy as np\n",
        "import matplotlib.pyplot as plt\n",
        "import seaborn as sns\n",
        "from mlxtend.frequent_patterns import apriori, association_rules"
      ],
      "execution_count": 8,
      "outputs": []
    },
    {
      "cell_type": "code",
      "metadata": {
        "colab": {
          "base_uri": "https://localhost:8080/",
          "height": 277
        },
        "id": "sQH-zZDZfIMT",
        "outputId": "d835b6b8-c7b4-4de2-edb2-92aa9561dfef"
      },
      "source": [
        "# obteniendo data\n",
        "df = pd.read_csv('https://raw.githubusercontent.com/octaviofv/market-basket-analysis/main/data/Apriori%20_%20Market_Basket_Optimisation.csv', header=None)\n",
        "df.head()"
      ],
      "execution_count": 5,
      "outputs": [
        {
          "output_type": "execute_result",
          "data": {
            "text/html": [
              "<div>\n",
              "<style scoped>\n",
              "    .dataframe tbody tr th:only-of-type {\n",
              "        vertical-align: middle;\n",
              "    }\n",
              "\n",
              "    .dataframe tbody tr th {\n",
              "        vertical-align: top;\n",
              "    }\n",
              "\n",
              "    .dataframe thead th {\n",
              "        text-align: right;\n",
              "    }\n",
              "</style>\n",
              "<table border=\"1\" class=\"dataframe\">\n",
              "  <thead>\n",
              "    <tr style=\"text-align: right;\">\n",
              "      <th></th>\n",
              "      <th>0</th>\n",
              "      <th>1</th>\n",
              "      <th>2</th>\n",
              "      <th>3</th>\n",
              "      <th>4</th>\n",
              "      <th>5</th>\n",
              "      <th>6</th>\n",
              "      <th>7</th>\n",
              "      <th>8</th>\n",
              "      <th>9</th>\n",
              "      <th>10</th>\n",
              "      <th>11</th>\n",
              "      <th>12</th>\n",
              "      <th>13</th>\n",
              "      <th>14</th>\n",
              "      <th>15</th>\n",
              "      <th>16</th>\n",
              "      <th>17</th>\n",
              "      <th>18</th>\n",
              "      <th>19</th>\n",
              "    </tr>\n",
              "  </thead>\n",
              "  <tbody>\n",
              "    <tr>\n",
              "      <th>0</th>\n",
              "      <td>shrimp</td>\n",
              "      <td>nut</td>\n",
              "      <td>lemon</td>\n",
              "      <td>vegetables mix</td>\n",
              "      <td>green grapes</td>\n",
              "      <td>whole weat flour</td>\n",
              "      <td>yams</td>\n",
              "      <td>cottage cheese</td>\n",
              "      <td>energy drink</td>\n",
              "      <td>tomato juice</td>\n",
              "      <td>low fat yogurt</td>\n",
              "      <td>iced tea</td>\n",
              "      <td>honey</td>\n",
              "      <td>salad</td>\n",
              "      <td>mineral water</td>\n",
              "      <td>salmon</td>\n",
              "      <td>antioxydant juice</td>\n",
              "      <td>frozen smoothie</td>\n",
              "      <td>spinach</td>\n",
              "      <td>olive oil</td>\n",
              "    </tr>\n",
              "    <tr>\n",
              "      <th>1</th>\n",
              "      <td>burgers</td>\n",
              "      <td>meatballs</td>\n",
              "      <td>eggs</td>\n",
              "      <td>NaN</td>\n",
              "      <td>NaN</td>\n",
              "      <td>NaN</td>\n",
              "      <td>NaN</td>\n",
              "      <td>NaN</td>\n",
              "      <td>NaN</td>\n",
              "      <td>NaN</td>\n",
              "      <td>NaN</td>\n",
              "      <td>NaN</td>\n",
              "      <td>NaN</td>\n",
              "      <td>NaN</td>\n",
              "      <td>NaN</td>\n",
              "      <td>NaN</td>\n",
              "      <td>NaN</td>\n",
              "      <td>NaN</td>\n",
              "      <td>NaN</td>\n",
              "      <td>NaN</td>\n",
              "    </tr>\n",
              "    <tr>\n",
              "      <th>2</th>\n",
              "      <td>chutney</td>\n",
              "      <td>NaN</td>\n",
              "      <td>NaN</td>\n",
              "      <td>NaN</td>\n",
              "      <td>NaN</td>\n",
              "      <td>NaN</td>\n",
              "      <td>NaN</td>\n",
              "      <td>NaN</td>\n",
              "      <td>NaN</td>\n",
              "      <td>NaN</td>\n",
              "      <td>NaN</td>\n",
              "      <td>NaN</td>\n",
              "      <td>NaN</td>\n",
              "      <td>NaN</td>\n",
              "      <td>NaN</td>\n",
              "      <td>NaN</td>\n",
              "      <td>NaN</td>\n",
              "      <td>NaN</td>\n",
              "      <td>NaN</td>\n",
              "      <td>NaN</td>\n",
              "    </tr>\n",
              "    <tr>\n",
              "      <th>3</th>\n",
              "      <td>turkey</td>\n",
              "      <td>lemon</td>\n",
              "      <td>NaN</td>\n",
              "      <td>NaN</td>\n",
              "      <td>NaN</td>\n",
              "      <td>NaN</td>\n",
              "      <td>NaN</td>\n",
              "      <td>NaN</td>\n",
              "      <td>NaN</td>\n",
              "      <td>NaN</td>\n",
              "      <td>NaN</td>\n",
              "      <td>NaN</td>\n",
              "      <td>NaN</td>\n",
              "      <td>NaN</td>\n",
              "      <td>NaN</td>\n",
              "      <td>NaN</td>\n",
              "      <td>NaN</td>\n",
              "      <td>NaN</td>\n",
              "      <td>NaN</td>\n",
              "      <td>NaN</td>\n",
              "    </tr>\n",
              "    <tr>\n",
              "      <th>4</th>\n",
              "      <td>mineral water</td>\n",
              "      <td>milk</td>\n",
              "      <td>energy bar</td>\n",
              "      <td>whole wheat rice</td>\n",
              "      <td>iced tea</td>\n",
              "      <td>NaN</td>\n",
              "      <td>NaN</td>\n",
              "      <td>NaN</td>\n",
              "      <td>NaN</td>\n",
              "      <td>NaN</td>\n",
              "      <td>NaN</td>\n",
              "      <td>NaN</td>\n",
              "      <td>NaN</td>\n",
              "      <td>NaN</td>\n",
              "      <td>NaN</td>\n",
              "      <td>NaN</td>\n",
              "      <td>NaN</td>\n",
              "      <td>NaN</td>\n",
              "      <td>NaN</td>\n",
              "      <td>NaN</td>\n",
              "    </tr>\n",
              "  </tbody>\n",
              "</table>\n",
              "</div>"
            ],
            "text/plain": [
              "              0          1           2   ...               17       18         19\n",
              "0         shrimp        nut       lemon  ...  frozen smoothie  spinach  olive oil\n",
              "1        burgers  meatballs        eggs  ...              NaN      NaN        NaN\n",
              "2        chutney        NaN         NaN  ...              NaN      NaN        NaN\n",
              "3         turkey      lemon         NaN  ...              NaN      NaN        NaN\n",
              "4  mineral water       milk  energy bar  ...              NaN      NaN        NaN\n",
              "\n",
              "[5 rows x 20 columns]"
            ]
          },
          "metadata": {},
          "execution_count": 5
        }
      ]
    },
    {
      "cell_type": "code",
      "metadata": {
        "colab": {
          "base_uri": "https://localhost:8080/"
        },
        "id": "NAP40v1ehCtB",
        "outputId": "f3a3e178-982d-4c6c-be7e-897f4458fc14"
      },
      "source": [
        "# ver tamaño de df\n",
        "df.shape"
      ],
      "execution_count": 23,
      "outputs": [
        {
          "output_type": "execute_result",
          "data": {
            "text/plain": [
              "(7501, 20)"
            ]
          },
          "metadata": {},
          "execution_count": 23
        }
      ]
    },
    {
      "cell_type": "code",
      "metadata": {
        "id": "akbtzW_nhK6b"
      },
      "source": [
        "# tengo las transacciones en la primera columna\n",
        "# tengo el historial de items en las siguientes columnas\n",
        "# entonces tengo que crear una lista con todos los productos y luego contar por trx\n",
        "\n",
        "# con df.values puedo tener una lista con los items de cada fila\n",
        "items = []\n",
        "for fila in range(df.shape[0]):\n",
        "    for col in range(df.shape[1]):\n",
        "        items.append(df.values[fila,col])\n"
      ],
      "execution_count": 34,
      "outputs": []
    },
    {
      "cell_type": "code",
      "metadata": {
        "colab": {
          "base_uri": "https://localhost:8080/"
        },
        "id": "BRJNiiswj8ei",
        "outputId": "138c751b-5385-4ce9-c2de-58096bd5abae"
      },
      "source": [
        "# elimino items duplicados y nan\n",
        "items = list(dict.fromkeys(items))\n",
        "items"
      ],
      "execution_count": 42,
      "outputs": [
        {
          "output_type": "execute_result",
          "data": {
            "text/plain": [
              "['shrimp',\n",
              " 'nut',\n",
              " 'lemon',\n",
              " 'vegetables mix',\n",
              " 'green grapes',\n",
              " 'whole weat flour',\n",
              " 'yams',\n",
              " 'cottage cheese',\n",
              " 'energy drink',\n",
              " 'tomato juice',\n",
              " 'low fat yogurt',\n",
              " 'iced tea',\n",
              " 'honey',\n",
              " 'salad',\n",
              " 'mineral water',\n",
              " 'salmon',\n",
              " 'antioxydant juice',\n",
              " 'frozen smoothie',\n",
              " 'spinach',\n",
              " 'olive oil',\n",
              " 'burgers',\n",
              " 'meatballs',\n",
              " 'eggs',\n",
              " nan,\n",
              " 'chutney',\n",
              " 'turkey',\n",
              " 'milk',\n",
              " 'energy bar',\n",
              " 'whole wheat rice',\n",
              " 'whole wheat pasta',\n",
              " 'french fries',\n",
              " 'soup',\n",
              " 'light cream',\n",
              " 'shallot',\n",
              " 'frozen vegetables',\n",
              " 'spaghetti',\n",
              " 'pet food',\n",
              " 'cookies',\n",
              " 'cooking oil',\n",
              " 'champagne',\n",
              " 'chocolate',\n",
              " 'chicken',\n",
              " 'oil',\n",
              " 'fresh tuna',\n",
              " 'tomatoes',\n",
              " 'black tea',\n",
              " 'extra dark chocolate',\n",
              " 'protein bar',\n",
              " 'red wine',\n",
              " 'pasta',\n",
              " 'pepper',\n",
              " 'shampoo',\n",
              " 'rice',\n",
              " 'sparkling water',\n",
              " 'ham',\n",
              " 'body spray',\n",
              " 'pancakes',\n",
              " 'grated cheese',\n",
              " 'white wine',\n",
              " 'toothpaste',\n",
              " 'parmesan cheese',\n",
              " 'fresh bread',\n",
              " 'ground beef',\n",
              " 'escalope',\n",
              " 'herb & pepper',\n",
              " 'tomato sauce',\n",
              " 'magazines',\n",
              " 'strawberries',\n",
              " 'strong cheese',\n",
              " 'pickles',\n",
              " 'cake',\n",
              " 'hot dogs',\n",
              " 'brownies',\n",
              " 'cereals',\n",
              " 'clothes accessories',\n",
              " 'bug spray',\n",
              " 'muffins',\n",
              " 'light mayo',\n",
              " 'gums',\n",
              " 'soda',\n",
              " 'cider',\n",
              " 'corn',\n",
              " 'yogurt cake',\n",
              " 'mint',\n",
              " 'butter',\n",
              " 'asparagus',\n",
              " 'french wine',\n",
              " 'salt',\n",
              " 'tea',\n",
              " 'barbecue sauce',\n",
              " 'mayonnaise',\n",
              " 'zucchini',\n",
              " 'carrots',\n",
              " 'mushroom cream sauce',\n",
              " 'candy bars',\n",
              " 'chili',\n",
              " 'mashed potato',\n",
              " 'nonfat milk',\n",
              " 'water spray',\n",
              " 'chocolate bread',\n",
              " 'mint iced tea',\n",
              " 'eggplant',\n",
              " 'blueberries',\n",
              " 'bacon',\n",
              " 'fromage blanc',\n",
              " 'gluten free bar',\n",
              " 'dessert wine',\n",
              " 'flax seed',\n",
              " 'hand protein bar',\n",
              " 'sandwich',\n",
              " 'babies food',\n",
              " 'melons',\n",
              " 'cauliflower',\n",
              " 'green beans',\n",
              " 'ketchup',\n",
              " 'bramble',\n",
              " 'burger sauce',\n",
              " 'oatmeal',\n",
              " ' asparagus',\n",
              " 'cream',\n",
              " 'napkins']"
            ]
          },
          "metadata": {},
          "execution_count": 42
        }
      ]
    },
    {
      "cell_type": "code",
      "metadata": {
        "colab": {
          "base_uri": "https://localhost:8080/"
        },
        "id": "xMW-OW82lTK-",
        "outputId": "3e8e1fd6-8ada-4da4-887d-68793d0c1689"
      },
      "source": [
        "# ahora debo ordenar transacciones e items\n",
        "len(items)\n",
        "# https://medium.com/machine-learning-and-artificial-intelligence/3-3-implementing-apriori-algorithm-for-association-rules-using-python-5292ecb9ff3d"
      ],
      "execution_count": 44,
      "outputs": [
        {
          "output_type": "execute_result",
          "data": {
            "text/plain": [
              "121"
            ]
          },
          "metadata": {},
          "execution_count": 44
        }
      ]
    }
  ]
}